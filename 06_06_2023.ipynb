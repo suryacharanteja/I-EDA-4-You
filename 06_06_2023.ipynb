{
 "cells": [
  {
   "cell_type": "code",
   "execution_count": 1,
   "id": "ce46e48c",
   "metadata": {},
   "outputs": [
    {
     "name": "stdout",
     "output_type": "stream",
     "text": [
      "   Employee ID      Name  Age    Department  Salary  Experience (years)\n",
      "0            1      John   32  Data Science   85000                   7\n",
      "1            2      Emma   28           Ops   75000                   5\n",
      "2            3   Michael   35       Product   95000                   9\n",
      "3            4    Sophia   42        Design   88000                  12\n",
      "4            5   William   39           Ops   82000                  10\n",
      "5            6    Olivia   26  Data Science   72000                   4\n",
      "6            7     James   31       Product   90000                   6\n",
      "7            8       Ava   33        Design   82000                   8\n",
      "8            9  Benjamin   37  Data Science   88000                  11\n",
      "9           10       Mia   29           Ops   75000                   5\n"
     ]
    }
   ],
   "source": [
    "import pandas as pd\n",
    "\n",
    "data = {\n",
    "    'Employee ID': [1, 2, 3, 4, 5, 6, 7, 8, 9, 10],\n",
    "    'Name': ['John', 'Emma', 'Michael', 'Sophia', 'William', 'Olivia', 'James', 'Ava', 'Benjamin', 'Mia'],\n",
    "    'Age': [32, 28, 35, 42, 39, 26, 31, 33, 37, 29],\n",
    "    'Department': ['Data Science', 'Ops', 'Product', 'Design', 'Ops', 'Data Science', 'Product', 'Design', 'Data Science', 'Ops'],\n",
    "    'Salary': [85000, 75000, 95000, 88000, 82000, 72000, 90000, 82000, 88000, 75000],\n",
    "    'Experience (years)': [7, 5, 9, 12, 10, 4, 6, 8, 11, 5]\n",
    "}\n",
    "\n",
    "df = pd.DataFrame(data)\n",
    "print(df)\n"
   ]
  },
  {
   "cell_type": "code",
   "execution_count": 2,
   "id": "b2b63743",
   "metadata": {},
   "outputs": [
    {
     "name": "stdout",
     "output_type": "stream",
     "text": [
      "   Employee ID     Name  Age  Gender                Position    Department\n",
      "0            1     John   30    Male          Data Scientist  Data Science\n",
      "1            2    Sarah   35  Female      Operations Manager           Ops\n",
      "2            3  Michael   28    Male         Product Manager       Product\n",
      "3            4    Emily   42  Female             Design Lead        Design\n",
      "4            5    David   39    Male            Data Analyst  Data Science\n",
      "5            6     Emma   27  Female      Operations Analyst           Ops\n",
      "6            7   Daniel   33    Male         Product Analyst       Product\n",
      "7            8   Olivia   31  Female                Designer        Design\n",
      "8            9    James   37    Male           Data Engineer  Data Science\n",
      "9           10   Sophia   29  Female  Operations Coordinator           Ops\n"
     ]
    }
   ],
   "source": [
    "import pandas as pd\n",
    "\n",
    "data = {\n",
    "    \"Employee ID\": [1, 2, 3, 4, 5, 6, 7, 8, 9, 10],\n",
    "    \"Name\": [\"John\", \"Sarah\", \"Michael\", \"Emily\", \"David\", \"Emma\", \"Daniel\", \"Olivia\", \"James\", \"Sophia\"],\n",
    "    \"Age\": [30, 35, 28, 42, 39, 27, 33, 31, 37, 29],\n",
    "    \"Gender\": [\"Male\", \"Female\", \"Male\", \"Female\", \"Male\", \"Female\", \"Male\", \"Female\", \"Male\", \"Female\"],\n",
    "    \"Position\": [\"Data Scientist\", \"Operations Manager\", \"Product Manager\", \"Design Lead\", \"Data Analyst\", \"Operations Analyst\", \"Product Analyst\", \"Designer\", \"Data Engineer\", \"Operations Coordinator\"],\n",
    "    \"Department\": [\"Data Science\", \"Ops\", \"Product\", \"Design\", \"Data Science\", \"Ops\", \"Product\", \"Design\", \"Data Science\", \"Ops\"]\n",
    "}\n",
    "\n",
    "df = pd.DataFrame(data)\n",
    "print(df)\n"
   ]
  },
  {
   "cell_type": "code",
   "execution_count": null,
   "id": "65b3172e",
   "metadata": {},
   "outputs": [],
   "source": []
  }
 ],
 "metadata": {
  "kernelspec": {
   "display_name": "Python 3 (ipykernel)",
   "language": "python",
   "name": "python3"
  },
  "language_info": {
   "codemirror_mode": {
    "name": "ipython",
    "version": 3
   },
   "file_extension": ".py",
   "mimetype": "text/x-python",
   "name": "python",
   "nbconvert_exporter": "python",
   "pygments_lexer": "ipython3",
   "version": "3.11.2"
  }
 },
 "nbformat": 4,
 "nbformat_minor": 5
}
