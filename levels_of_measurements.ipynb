{
 "cells": [
  {
   "cell_type": "code",
   "execution_count": null,
   "id": "8452b7cc",
   "metadata": {},
   "outputs": [],
   "source": [
    "# send out a survey to 500 people asking questions about their\n",
    "1. income\n",
    "2. location\n",
    "3. age\n",
    "4. spending \n",
    "\n",
    "columns | income | location | age | spending\n",
    "ent1    | 23     | dfjf     | 24  | beauty\n",
    "ent2    | 45     | ajdjfj   | 34  | groccery "
   ]
  },
  {
   "cell_type": "code",
   "execution_count": null,
   "id": "90794120",
   "metadata": {},
   "outputs": [],
   "source": []
  },
  {
   "cell_type": "code",
   "execution_count": null,
   "id": "92c16e8c",
   "metadata": {},
   "outputs": [],
   "source": []
  },
  {
   "cell_type": "code",
   "execution_count": null,
   "id": "686e477d",
   "metadata": {},
   "outputs": [],
   "source": [
    "income of the people:\n",
    "    1. provide me exact figure ---- ratio \n",
    "    2. select from the ranges ----- interval\n",
    "    3. select categories high, low, medium --- ordinal\n",
    "    4. select categories, nominal "
   ]
  },
  {
   "cell_type": "code",
   "execution_count": null,
   "id": "9d945de1",
   "metadata": {},
   "outputs": [],
   "source": [
    "Nominal level:\n",
    "    categorize data into discrete and non-ordered categories or groups\n",
    "    nationality, marital status, \n",
    "\n",
    "Ordinal level:\n",
    "    categorize data into ordered categories or groups\n",
    "    rankings, grades, levels of education, Likert scales\n",
    "    \n",
    "Interval level:\n",
    "    categorize data into ordered groups, where the distance between categories is also meaningful\n",
    "    temperature measurement in celsius\n",
    "    time measured in hours, minutes or seconds\n",
    "    \n",
    "ratio level:\n",
    "    true zero point\n",
    "    height, weight, distane, and income, "
   ]
  },
  {
   "cell_type": "markdown",
   "id": "fef217ab",
   "metadata": {},
   "source": [
    "# Ordinal level of measurement"
   ]
  },
  {
   "cell_type": "code",
   "execution_count": null,
   "id": "d11f0ffc",
   "metadata": {},
   "outputs": [],
   "source": [
    "pain rating  | sum of pain ratings\n",
    "1               34%\n",
    "2               43%\n",
    "3               87%\n",
    "4               89%\n",
    "5               145%"
   ]
  },
  {
   "cell_type": "code",
   "execution_count": null,
   "id": "545087e9",
   "metadata": {},
   "outputs": [],
   "source": [
    "median:\n",
    "    \n",
    "1, 1, 1, 1, 2, 2, 2, 2, 3, 3, 3, 3, ,4 ,4 ,4 ,4, 5, 5, 5 ,5, 5, 5\n",
    "\n",
    "range:\n",
    "    5 - 1 = 4"
   ]
  },
  {
   "cell_type": "code",
   "execution_count": null,
   "id": "e35e6fb3",
   "metadata": {},
   "outputs": [],
   "source": [
    "Statistical tests:\n",
    "    Mood's median test\n",
    "    Mann-whitney U-test\n",
    "    wilcoxon matched pairs signed-rank test\n",
    "    Kruskal-WallisHtest\n",
    "    Spearman's rho "
   ]
  },
  {
   "cell_type": "code",
   "execution_count": null,
   "id": "3d9d956f",
   "metadata": {},
   "outputs": [],
   "source": []
  },
  {
   "cell_type": "markdown",
   "id": "bb350b22",
   "metadata": {},
   "source": [
    "# Nominal data"
   ]
  },
  {
   "cell_type": "code",
   "execution_count": null,
   "id": "3dc28282",
   "metadata": {},
   "outputs": [],
   "source": [
    "frequency distribution\n",
    "mode"
   ]
  },
  {
   "cell_type": "code",
   "execution_count": 1,
   "id": "bc529c4b",
   "metadata": {},
   "outputs": [],
   "source": [
    "import pandas as pd"
   ]
  },
  {
   "cell_type": "code",
   "execution_count": 2,
   "id": "3b05e51b",
   "metadata": {},
   "outputs": [],
   "source": [
    "players = pd.read_csv(\"./Soccer_players_data1.csv\")"
   ]
  },
  {
   "cell_type": "code",
   "execution_count": 5,
   "id": "db444a5c",
   "metadata": {},
   "outputs": [
    {
     "data": {
      "text/html": [
       "<div>\n",
       "<style scoped>\n",
       "    .dataframe tbody tr th:only-of-type {\n",
       "        vertical-align: middle;\n",
       "    }\n",
       "\n",
       "    .dataframe tbody tr th {\n",
       "        vertical-align: top;\n",
       "    }\n",
       "\n",
       "    .dataframe thead th {\n",
       "        text-align: right;\n",
       "    }\n",
       "</style>\n",
       "<table border=\"1\" class=\"dataframe\">\n",
       "  <thead>\n",
       "    <tr style=\"text-align: right;\">\n",
       "      <th></th>\n",
       "      <th>Second name</th>\n",
       "      <th>First name</th>\n",
       "      <th>Gender</th>\n",
       "      <th>Height(cm)</th>\n",
       "      <th>Weight(kg)</th>\n",
       "      <th>Country/Team</th>\n",
       "    </tr>\n",
       "  </thead>\n",
       "  <tbody>\n",
       "    <tr>\n",
       "      <th>1582</th>\n",
       "      <td>Zhou</td>\n",
       "      <td>Peng</td>\n",
       "      <td>M</td>\n",
       "      <td>183</td>\n",
       "      <td>88</td>\n",
       "      <td>China</td>\n",
       "    </tr>\n",
       "    <tr>\n",
       "      <th>1583</th>\n",
       "      <td>Zlokovic</td>\n",
       "      <td>Boris</td>\n",
       "      <td>M</td>\n",
       "      <td>197</td>\n",
       "      <td>100</td>\n",
       "      <td>Montenegro</td>\n",
       "    </tr>\n",
       "    <tr>\n",
       "      <th>1584</th>\n",
       "      <td>Zolnir</td>\n",
       "      <td>Urska</td>\n",
       "      <td>W</td>\n",
       "      <td>173</td>\n",
       "      <td>63</td>\n",
       "      <td>Slovenia</td>\n",
       "    </tr>\n",
       "    <tr>\n",
       "      <th>1585</th>\n",
       "      <td>Zoric</td>\n",
       "      <td>Milenko</td>\n",
       "      <td>M</td>\n",
       "      <td>179</td>\n",
       "      <td>73</td>\n",
       "      <td>Serbia</td>\n",
       "    </tr>\n",
       "    <tr>\n",
       "      <th>1586</th>\n",
       "      <td>Zugaj</td>\n",
       "      <td>Nenad</td>\n",
       "      <td>M</td>\n",
       "      <td>177</td>\n",
       "      <td>84</td>\n",
       "      <td>Croatia</td>\n",
       "    </tr>\n",
       "  </tbody>\n",
       "</table>\n",
       "</div>"
      ],
      "text/plain": [
       "     Second name First name Gender  Height(cm)  Weight(kg) Country/Team\n",
       "1582        Zhou      Peng       M         183          88        China\n",
       "1583    Zlokovic     Boris       M         197         100   Montenegro\n",
       "1584      Zolnir     Urska       W         173          63     Slovenia\n",
       "1585       Zoric   Milenko       M         179          73       Serbia\n",
       "1586       Zugaj     Nenad       M         177          84      Croatia"
      ]
     },
     "execution_count": 5,
     "metadata": {},
     "output_type": "execute_result"
    }
   ],
   "source": [
    "players.tail()"
   ]
  },
  {
   "cell_type": "code",
   "execution_count": 6,
   "id": "ce7bbee7",
   "metadata": {},
   "outputs": [
    {
     "name": "stdout",
     "output_type": "stream",
     "text": [
      "<class 'pandas.core.frame.DataFrame'>\n",
      "RangeIndex: 1587 entries, 0 to 1586\n",
      "Data columns (total 6 columns):\n",
      " #   Column        Non-Null Count  Dtype \n",
      "---  ------        --------------  ----- \n",
      " 0   Second name   1587 non-null   object\n",
      " 1   First name    1586 non-null   object\n",
      " 2   Gender        1587 non-null   object\n",
      " 3   Height(cm)    1587 non-null   int64 \n",
      " 4   Weight(kg)    1587 non-null   int64 \n",
      " 5   Country/Team  1587 non-null   object\n",
      "dtypes: int64(2), object(4)\n",
      "memory usage: 74.5+ KB\n"
     ]
    }
   ],
   "source": [
    "players.info()"
   ]
  },
  {
   "cell_type": "code",
   "execution_count": 7,
   "id": "a758e306",
   "metadata": {},
   "outputs": [
    {
     "data": {
      "text/plain": [
       "0                    Algeria\n",
       "1                      Italy\n",
       "2                      Egypt\n",
       "3       United Arab Emirates\n",
       "4                      Spain\n",
       "                ...         \n",
       "1582                   China\n",
       "1583              Montenegro\n",
       "1584                Slovenia\n",
       "1585                  Serbia\n",
       "1586                 Croatia\n",
       "Name: Country/Team, Length: 1587, dtype: object"
      ]
     },
     "execution_count": 7,
     "metadata": {},
     "output_type": "execute_result"
    }
   ],
   "source": [
    "players['Country/Team']"
   ]
  },
  {
   "cell_type": "code",
   "execution_count": 8,
   "id": "41f5c16a",
   "metadata": {},
   "outputs": [
    {
     "data": {
      "text/plain": [
       "array(['Algeria', 'Italy', 'Egypt', 'United Arab Emirates', 'Spain',\n",
       "       'Portugal', 'Colombia', 'Ethiopia', 'Jordan', 'Team GB',\n",
       "       'Cameroon', 'Saint Kitts and Nevis', 'Russian Federation',\n",
       "       'Greece', 'Comoros', 'Trinidad and Tobago', 'Lithuania', 'Tunisia',\n",
       "       'Qatar', 'Vanuatu', 'St Vincent and the Grenadines', 'Oman',\n",
       "       'Madagascar', 'Bahrain', 'Barbados', 'Australian Olympic Team',\n",
       "       'Uzbekistan', 'Botswana', 'Team USA', 'Japan', 'Venezuela',\n",
       "       'Mongolia', 'Poland', 'Brazil', 'Kuwait', 'Iran', 'Eritrea',\n",
       "       'Bahamas', 'Guam', 'Hong Kong', 'Myanmar', 'New Zealand',\n",
       "       'Germany', 'South Korea', 'Afghanistan', 'Belarus',\n",
       "       'Antigua and Barbuda', 'Hungary', 'France', 'Monaco', 'Angola',\n",
       "       'Chile', 'Argentina', 'Namibia', 'Kazakhstan', 'Romania',\n",
       "       'Ukraine', 'Andorra', 'Czech Republic', 'Burundi', 'Slovenia',\n",
       "       'Jamaica', 'Independent Olympic Athletes', 'Netherlands', 'Canada',\n",
       "       'Senegal', 'Montenegro', 'Bermuda', 'Croatia', 'Guinea', 'Ireland',\n",
       "       'Moldova', 'Latvia', 'China', 'Switzerland', 'Lebanon', 'Thailand',\n",
       "       'Benin', 'Bhutan', 'Malta', 'Uruguay', 'Mozambique', 'Sweden',\n",
       "       'Yemen', 'Bulgaria', 'Denmark', 'South Africa', 'Turkey',\n",
       "       'Armenia', 'Belgium', 'Mexico', 'Serbia', 'Nauru', 'Kenya',\n",
       "       'Israel', 'FYR Macedonia', 'Indonesia', 'Morocco', 'Mauritania',\n",
       "       'Fiji', 'Ecuador', 'Chinese Taipei', 'Austria', 'Slovakia',\n",
       "       'American Samoa', 'Cayman Islands', 'Honduras', 'Palau', 'Nigeria',\n",
       "       'Niger', 'Swaziland', 'Liechtenstein', 'Azerbaijan', 'Palestine',\n",
       "       'Marshall Islands', 'El Salvador', 'Paraguay', 'Philippines',\n",
       "       'Dominica', 'Tajikistan', 'Sri Lanka', 'American Virgin Islands',\n",
       "       'Syria', 'Zimbabwe', 'Central African Republic', 'Albania',\n",
       "       'Georgia', 'North Korea', 'Bosnia and Herzegovina', 'Kyrgyzstan',\n",
       "       'Ivory Coast', 'Cyprus', 'Finland', 'Turkmenistan', 'Estonia',\n",
       "       'Tuvalu', 'Mauritius', 'Brunei Darussalam', 'Uganda', 'DR Congo',\n",
       "       'Seychelles', 'Equatorial Guinea', 'Aruba', 'Bangladesh', 'Belize',\n",
       "       'Dominican Republic', 'Guinea-Bissau', 'Micronesia', 'Malaysia',\n",
       "       'Cape Verde', 'Tanzania', 'Costa Rica', 'Togo', 'Chad', 'Vietnam',\n",
       "       'Luxembourg', 'Rwanda', 'Gabon', 'Singapore', 'Burkina Faso',\n",
       "       'Papua New Guinea', \"Lao People's Dem Republic\",\n",
       "       'S?úo Tom?? and Pr?¡ncipe', 'Maldives', 'Nepal', 'Guyana',\n",
       "       'Guatemala', 'Panama', 'Iraq', 'Peru', 'Grenada', 'Timor-Leste',\n",
       "       'Suriname', 'Cambodia', 'Saint Lucia', 'Malawi', 'Kiribati',\n",
       "       'San Marino', 'Nicaragua', 'Sierra Leone', 'Cook Islands', 'Sudan'],\n",
       "      dtype=object)"
      ]
     },
     "execution_count": 8,
     "metadata": {},
     "output_type": "execute_result"
    }
   ],
   "source": [
    "players['Country/Team'].unique()"
   ]
  },
  {
   "cell_type": "code",
   "execution_count": 9,
   "id": "1c12c973",
   "metadata": {},
   "outputs": [
    {
     "data": {
      "text/plain": [
       "Team GB                    550\n",
       "Team USA                    52\n",
       "Russian Federation          45\n",
       "Australian Olympic Team     42\n",
       "China                       40\n",
       "                          ... \n",
       "Nigeria                      1\n",
       "Palau                        1\n",
       "Cayman Islands               1\n",
       "American Samoa               1\n",
       "Sudan                        1\n",
       "Name: Country/Team, Length: 182, dtype: int64"
      ]
     },
     "execution_count": 9,
     "metadata": {},
     "output_type": "execute_result"
    }
   ],
   "source": [
    "players['Country/Team'].value_counts()"
   ]
  },
  {
   "cell_type": "code",
   "execution_count": 10,
   "id": "c682505a",
   "metadata": {},
   "outputs": [
    {
     "data": {
      "text/plain": [
       "<bound method Series.unique of 0                    Algeria\n",
       "1                      Italy\n",
       "2                      Egypt\n",
       "3       United Arab Emirates\n",
       "4                      Spain\n",
       "                ...         \n",
       "1582                   China\n",
       "1583              Montenegro\n",
       "1584                Slovenia\n",
       "1585                  Serbia\n",
       "1586                 Croatia\n",
       "Name: Country/Team, Length: 1587, dtype: object>"
      ]
     },
     "execution_count": 10,
     "metadata": {},
     "output_type": "execute_result"
    }
   ],
   "source": [
    "players['Country/Team'].unique"
   ]
  },
  {
   "cell_type": "markdown",
   "id": "3a7e40f5",
   "metadata": {},
   "source": [
    "### mode"
   ]
  },
  {
   "cell_type": "code",
   "execution_count": 11,
   "id": "ff0081bd",
   "metadata": {},
   "outputs": [
    {
     "data": {
      "text/plain": [
       "0    Team GB\n",
       "Name: Country/Team, dtype: object"
      ]
     },
     "execution_count": 11,
     "metadata": {},
     "output_type": "execute_result"
    }
   ],
   "source": [
    "players['Country/Team'].mode()"
   ]
  },
  {
   "cell_type": "markdown",
   "id": "7102b9e1",
   "metadata": {},
   "source": [
    "### frequency distribution"
   ]
  },
  {
   "cell_type": "code",
   "execution_count": 12,
   "id": "de43b5c0",
   "metadata": {},
   "outputs": [
    {
     "data": {
      "text/plain": [
       "<Axes: >"
      ]
     },
     "execution_count": 12,
     "metadata": {},
     "output_type": "execute_result"
    },
    {
     "data": {
      "image/png": "[encoded data removed]",
      "text/plain": [
       "<Figure size 640x480 with 1 Axes>"
      ]
     },
     "metadata": {},
     "output_type": "display_data"
    }
   ],
   "source": [
    "players['Country/Team'].hist()"
   ]
  },
  {
   "cell_type": "markdown",
   "id": "0a259e74",
   "metadata": {},
   "source": [
    "# 2. ordinal LOM"
   ]
  },
  {
   "cell_type": "code",
   "execution_count": null,
   "id": "52c843ac",
   "metadata": {},
   "outputs": [],
   "source": [
    "frequency distribution, mode, median, range"
   ]
  },
  {
   "cell_type": "code",
   "execution_count": 13,
   "id": "12e246a6",
   "metadata": {},
   "outputs": [],
   "source": [
    "customers = pd.read_csv(\"./Customers_segmentation.csv\")"
   ]
  },
  {
   "cell_type": "code",
   "execution_count": 15,
   "id": "36a3bfc3",
   "metadata": {},
   "outputs": [
    {
     "data": {
      "text/html": [
       "<div>\n",
       "<style scoped>\n",
       "    .dataframe tbody tr th:only-of-type {\n",
       "        vertical-align: middle;\n",
       "    }\n",
       "\n",
       "    .dataframe tbody tr th {\n",
       "        vertical-align: top;\n",
       "    }\n",
       "\n",
       "    .dataframe thead th {\n",
       "        text-align: right;\n",
       "    }\n",
       "</style>\n",
       "<table border=\"1\" class=\"dataframe\">\n",
       "  <thead>\n",
       "    <tr style=\"text-align: right;\">\n",
       "      <th></th>\n",
       "      <th>CustomerID</th>\n",
       "      <th>Gender</th>\n",
       "      <th>Age</th>\n",
       "      <th>Annual Income ($)</th>\n",
       "      <th>Spending Score (1-100)</th>\n",
       "      <th>Profession</th>\n",
       "      <th>Work Experience</th>\n",
       "      <th>Family Size</th>\n",
       "    </tr>\n",
       "  </thead>\n",
       "  <tbody>\n",
       "    <tr>\n",
       "      <th>0</th>\n",
       "      <td>1</td>\n",
       "      <td>Male</td>\n",
       "      <td>19</td>\n",
       "      <td>15000</td>\n",
       "      <td>39</td>\n",
       "      <td>Healthcare</td>\n",
       "      <td>1</td>\n",
       "      <td>4</td>\n",
       "    </tr>\n",
       "    <tr>\n",
       "      <th>1</th>\n",
       "      <td>2</td>\n",
       "      <td>Male</td>\n",
       "      <td>21</td>\n",
       "      <td>35000</td>\n",
       "      <td>81</td>\n",
       "      <td>Engineer</td>\n",
       "      <td>3</td>\n",
       "      <td>3</td>\n",
       "    </tr>\n",
       "    <tr>\n",
       "      <th>2</th>\n",
       "      <td>3</td>\n",
       "      <td>Female</td>\n",
       "      <td>20</td>\n",
       "      <td>86000</td>\n",
       "      <td>6</td>\n",
       "      <td>Engineer</td>\n",
       "      <td>1</td>\n",
       "      <td>1</td>\n",
       "    </tr>\n",
       "    <tr>\n",
       "      <th>3</th>\n",
       "      <td>4</td>\n",
       "      <td>Female</td>\n",
       "      <td>23</td>\n",
       "      <td>59000</td>\n",
       "      <td>77</td>\n",
       "      <td>Lawyer</td>\n",
       "      <td>0</td>\n",
       "      <td>2</td>\n",
       "    </tr>\n",
       "    <tr>\n",
       "      <th>4</th>\n",
       "      <td>5</td>\n",
       "      <td>Female</td>\n",
       "      <td>31</td>\n",
       "      <td>38000</td>\n",
       "      <td>40</td>\n",
       "      <td>Entertainment</td>\n",
       "      <td>2</td>\n",
       "      <td>6</td>\n",
       "    </tr>\n",
       "  </tbody>\n",
       "</table>\n",
       "</div>"
      ],
      "text/plain": [
       "   CustomerID  Gender  Age  Annual Income ($)  Spending Score (1-100)  \\\n",
       "0           1    Male   19              15000                      39   \n",
       "1           2    Male   21              35000                      81   \n",
       "2           3  Female   20              86000                       6   \n",
       "3           4  Female   23              59000                      77   \n",
       "4           5  Female   31              38000                      40   \n",
       "\n",
       "      Profession  Work Experience  Family Size  \n",
       "0     Healthcare                1            4  \n",
       "1       Engineer                3            3  \n",
       "2       Engineer                1            1  \n",
       "3         Lawyer                0            2  \n",
       "4  Entertainment                2            6  "
      ]
     },
     "execution_count": 15,
     "metadata": {},
     "output_type": "execute_result"
    }
   ],
   "source": [
    "customers.head()"
   ]
  },
  {
   "cell_type": "code",
   "execution_count": 26,
   "id": "6594951b",
   "metadata": {},
   "outputs": [
    {
     "data": {
      "text/plain": [
       "array([ 39,  81,   6,  77,  40,  76,  94,   3,  72,  14,  99,  15,  13,\n",
       "        79,  35,  66,  29,  98,  73,   5,  82,  32,  61,  31,  87,   4,\n",
       "        92,  17,  26,  75,  36,  28,  65,  55,  47,  42,  52,  60,  54,\n",
       "        45,  41,  50,  46,  51,  56,  59,  48,  49,  53,  44,  57,  58,\n",
       "        43,  91,  95,  11,   9,  34,  71,  88,   7,  10,  93,  12,  97,\n",
       "        74,  22,  90,  20,  16,  89,   1,  78,  83,  27,  63,  86,  69,\n",
       "        24,  68,  85,  23,   8,  18,   0,  33,  70,  37,  64,  30,  96,\n",
       "         2,  38,  21,  84,  62,  80, 100,  67,  19,  25], dtype=int64)"
      ]
     },
     "execution_count": 26,
     "metadata": {},
     "output_type": "execute_result"
    }
   ],
   "source": [
    "customers[\"Spending Score (1-100)\"].unique()"
   ]
  },
  {
   "cell_type": "markdown",
   "id": "a5d37658",
   "metadata": {},
   "source": [
    "### frequency distribution"
   ]
  },
  {
   "cell_type": "code",
   "execution_count": 27,
   "id": "9b708a2b",
   "metadata": {},
   "outputs": [
    {
     "data": {
      "text/plain": [
       "49    34\n",
       "42    33\n",
       "55    32\n",
       "17    31\n",
       "46    28\n",
       "      ..\n",
       "72    12\n",
       "6     12\n",
       "9     12\n",
       "95    12\n",
       "0      2\n",
       "Name: Spending Score (1-100), Length: 101, dtype: int64"
      ]
     },
     "execution_count": 27,
     "metadata": {},
     "output_type": "execute_result"
    }
   ],
   "source": [
    "customers[\"Spending Score (1-100)\"].value_counts()"
   ]
  },
  {
   "cell_type": "code",
   "execution_count": 28,
   "id": "93ec9bf5",
   "metadata": {},
   "outputs": [
    {
     "data": {
      "text/plain": [
       "<Axes: >"
      ]
     },
     "execution_count": 28,
     "metadata": {},
     "output_type": "execute_result"
    },
    {
     "data": {
      "image/png": "[encoded data removed]",
      "text/plain": [
       "<Figure size 640x480 with 1 Axes>"
      ]
     },
     "metadata": {},
     "output_type": "display_data"
    }
   ],
   "source": [
    "customers[\"Spending Score (1-100)\"].hist()"
   ]
  },
  {
   "cell_type": "markdown",
   "id": "877e3a64",
   "metadata": {},
   "source": [
    "### mode"
   ]
  },
  {
   "cell_type": "code",
   "execution_count": 29,
   "id": "7162fbb3",
   "metadata": {},
   "outputs": [
    {
     "data": {
      "text/plain": [
       "0    49\n",
       "Name: Spending Score (1-100), dtype: int64"
      ]
     },
     "execution_count": 29,
     "metadata": {},
     "output_type": "execute_result"
    }
   ],
   "source": [
    "customers[\"Spending Score (1-100)\"].mode()"
   ]
  },
  {
   "cell_type": "markdown",
   "id": "d8c58b22",
   "metadata": {},
   "source": [
    "### median"
   ]
  },
  {
   "cell_type": "code",
   "execution_count": 30,
   "id": "b650fa19",
   "metadata": {},
   "outputs": [
    {
     "data": {
      "text/plain": [
       "50.0"
      ]
     },
     "execution_count": 30,
     "metadata": {},
     "output_type": "execute_result"
    }
   ],
   "source": [
    "customers[\"Spending Score (1-100)\"].median()"
   ]
  },
  {
   "cell_type": "code",
   "execution_count": 32,
   "id": "9ab59078",
   "metadata": {},
   "outputs": [
    {
     "data": {
      "text/plain": [
       "(2000,)"
      ]
     },
     "execution_count": 32,
     "metadata": {},
     "output_type": "execute_result"
    }
   ],
   "source": [
    "customers[\"Spending Score (1-100)\"].shape"
   ]
  },
  {
   "cell_type": "markdown",
   "id": "3a4d9ab6",
   "metadata": {},
   "source": [
    "### range"
   ]
  },
  {
   "cell_type": "code",
   "execution_count": 37,
   "id": "e7829196",
   "metadata": {},
   "outputs": [
    {
     "data": {
      "text/plain": [
       "0"
      ]
     },
     "execution_count": 37,
     "metadata": {},
     "output_type": "execute_result"
    }
   ],
   "source": [
    "customers[\"Spending Score (1-100)\"].min()"
   ]
  },
  {
   "cell_type": "code",
   "execution_count": 38,
   "id": "7202bc9e",
   "metadata": {},
   "outputs": [
    {
     "data": {
      "text/plain": [
       "100"
      ]
     },
     "execution_count": 38,
     "metadata": {},
     "output_type": "execute_result"
    }
   ],
   "source": [
    "customers[\"Spending Score (1-100)\"].max()"
   ]
  },
  {
   "cell_type": "code",
   "execution_count": null,
   "id": "8e3d83fe",
   "metadata": {},
   "outputs": [],
   "source": [
    "100-0 = 100"
   ]
  },
  {
   "cell_type": "code",
   "execution_count": null,
   "id": "a5dcbff8",
   "metadata": {},
   "outputs": [],
   "source": []
  },
  {
   "cell_type": "code",
   "execution_count": 16,
   "id": "16324166",
   "metadata": {},
   "outputs": [
    {
     "data": {
      "text/plain": [
       "array(['Healthcare', 'Engineer', 'Lawyer', 'Entertainment', 'Artist',\n",
       "       'Executive', 'Doctor', 'Homemaker', 'Marketing', nan], dtype=object)"
      ]
     },
     "execution_count": 16,
     "metadata": {},
     "output_type": "execute_result"
    }
   ],
   "source": [
    "customers[\"Profession\"].unique()"
   ]
  },
  {
   "cell_type": "code",
   "execution_count": 19,
   "id": "0a8c2a73",
   "metadata": {},
   "outputs": [],
   "source": [
    "cust = customers.dropna()"
   ]
  },
  {
   "cell_type": "code",
   "execution_count": 20,
   "id": "f4a607e2",
   "metadata": {},
   "outputs": [
    {
     "data": {
      "text/plain": [
       "array(['Healthcare', 'Engineer', 'Lawyer', 'Entertainment', 'Artist',\n",
       "       'Executive', 'Doctor', 'Homemaker', 'Marketing'], dtype=object)"
      ]
     },
     "execution_count": 20,
     "metadata": {},
     "output_type": "execute_result"
    }
   ],
   "source": [
    "cust[\"Profession\"].unique()"
   ]
  },
  {
   "cell_type": "code",
   "execution_count": 21,
   "id": "381274a9",
   "metadata": {},
   "outputs": [
    {
     "data": {
      "text/plain": [
       "Artist           612\n",
       "Healthcare       339\n",
       "Entertainment    234\n",
       "Engineer         179\n",
       "Doctor           161\n",
       "Executive        153\n",
       "Lawyer           142\n",
       "Marketing         85\n",
       "Homemaker         60\n",
       "Name: Profession, dtype: int64"
      ]
     },
     "execution_count": 21,
     "metadata": {},
     "output_type": "execute_result"
    }
   ],
   "source": [
    "cust[\"Profession\"].value_counts()"
   ]
  },
  {
   "cell_type": "code",
   "execution_count": 22,
   "id": "dfb80e03",
   "metadata": {},
   "outputs": [
    {
     "data": {
      "text/plain": [
       "0    Artist\n",
       "Name: Profession, dtype: object"
      ]
     },
     "execution_count": 22,
     "metadata": {},
     "output_type": "execute_result"
    }
   ],
   "source": [
    "cust[\"Profession\"].mode()"
   ]
  },
  {
   "cell_type": "code",
   "execution_count": 24,
   "id": "0d8b2951",
   "metadata": {},
   "outputs": [
    {
     "data": {
      "text/plain": [
       "<Axes: >"
      ]
     },
     "execution_count": 24,
     "metadata": {},
     "output_type": "execute_result"
    },
    {
     "data": {
      "image/png": "[encoded data removed]",
      "text/plain": [
       "<Figure size 640x480 with 1 Axes>"
      ]
     },
     "metadata": {},
     "output_type": "display_data"
    }
   ],
   "source": [
    "cust[\"Profession\"].hist()"
   ]
  },
  {
   "cell_type": "markdown",
   "id": "0e5e4eff",
   "metadata": {},
   "source": [
    "# Interval LOM"
   ]
  },
  {
   "cell_type": "code",
   "execution_count": null,
   "id": "afda915b",
   "metadata": {},
   "outputs": [],
   "source": [
    "\n",
    "Statistical tests:\n",
    "    t-test:\n",
    "    ANOVA:\n",
    "    Pearson'r:\n",
    "    linear regression:\n",
    "\n",
    "discriptive statistics: \n",
    "    Frequency distribution\n",
    "    the mode, median and mean\n",
    "    Range,\n",
    "    standard deviation\n",
    "    variance"
   ]
  },
  {
   "cell_type": "code",
   "execution_count": 5,
   "id": "88a6e8bb",
   "metadata": {},
   "outputs": [],
   "source": [
    "temps = pd.read_csv(\"./timeseries/daily-minimum-temperatures-in-me.csv\")"
   ]
  },
  {
   "cell_type": "code",
   "execution_count": 6,
   "id": "6c2b15de",
   "metadata": {},
   "outputs": [
    {
     "data": {
      "text/html": [
       "<div>\n",
       "<style scoped>\n",
       "    .dataframe tbody tr th:only-of-type {\n",
       "        vertical-align: middle;\n",
       "    }\n",
       "\n",
       "    .dataframe tbody tr th {\n",
       "        vertical-align: top;\n",
       "    }\n",
       "\n",
       "    .dataframe thead th {\n",
       "        text-align: right;\n",
       "    }\n",
       "</style>\n",
       "<table border=\"1\" class=\"dataframe\">\n",
       "  <thead>\n",
       "    <tr style=\"text-align: right;\">\n",
       "      <th></th>\n",
       "      <th>Date</th>\n",
       "      <th>Daily minimum temperatures</th>\n",
       "      <th>Unnamed: 2</th>\n",
       "    </tr>\n",
       "  </thead>\n",
       "  <tbody>\n",
       "    <tr>\n",
       "      <th>0</th>\n",
       "      <td>01-01-1981</td>\n",
       "      <td>21</td>\n",
       "      <td>NaN</td>\n",
       "    </tr>\n",
       "    <tr>\n",
       "      <th>1</th>\n",
       "      <td>01-02-1981</td>\n",
       "      <td>18</td>\n",
       "      <td>NaN</td>\n",
       "    </tr>\n",
       "    <tr>\n",
       "      <th>2</th>\n",
       "      <td>01-03-1981</td>\n",
       "      <td>19</td>\n",
       "      <td>NaN</td>\n",
       "    </tr>\n",
       "    <tr>\n",
       "      <th>3</th>\n",
       "      <td>01-04-1981</td>\n",
       "      <td>15</td>\n",
       "      <td>NaN</td>\n",
       "    </tr>\n",
       "    <tr>\n",
       "      <th>4</th>\n",
       "      <td>01-05-1981</td>\n",
       "      <td>16</td>\n",
       "      <td>NaN</td>\n",
       "    </tr>\n",
       "  </tbody>\n",
       "</table>\n",
       "</div>"
      ],
      "text/plain": [
       "         Date Daily minimum temperatures  Unnamed: 2\n",
       "0  01-01-1981                         21         NaN\n",
       "1  01-02-1981                         18         NaN\n",
       "2  01-03-1981                         19         NaN\n",
       "3  01-04-1981                         15         NaN\n",
       "4  01-05-1981                         16         NaN"
      ]
     },
     "execution_count": 6,
     "metadata": {},
     "output_type": "execute_result"
    }
   ],
   "source": [
    "temps.head()"
   ]
  },
  {
   "cell_type": "code",
   "execution_count": 7,
   "id": "f29bdd63",
   "metadata": {},
   "outputs": [],
   "source": [
    "tempratures = temps[[\"Date\", \"Daily minimum temperatures\"]]"
   ]
  },
  {
   "cell_type": "code",
   "execution_count": 8,
   "id": "1d386e21",
   "metadata": {},
   "outputs": [
    {
     "data": {
      "text/html": [
       "<div>\n",
       "<style scoped>\n",
       "    .dataframe tbody tr th:only-of-type {\n",
       "        vertical-align: middle;\n",
       "    }\n",
       "\n",
       "    .dataframe tbody tr th {\n",
       "        vertical-align: top;\n",
       "    }\n",
       "\n",
       "    .dataframe thead th {\n",
       "        text-align: right;\n",
       "    }\n",
       "</style>\n",
       "<table border=\"1\" class=\"dataframe\">\n",
       "  <thead>\n",
       "    <tr style=\"text-align: right;\">\n",
       "      <th></th>\n",
       "      <th>Date</th>\n",
       "      <th>Daily minimum temperatures</th>\n",
       "    </tr>\n",
       "  </thead>\n",
       "  <tbody>\n",
       "    <tr>\n",
       "      <th>3645</th>\n",
       "      <td>12/27/1990</td>\n",
       "      <td>14</td>\n",
       "    </tr>\n",
       "    <tr>\n",
       "      <th>3646</th>\n",
       "      <td>12/28/1990</td>\n",
       "      <td>14</td>\n",
       "    </tr>\n",
       "    <tr>\n",
       "      <th>3647</th>\n",
       "      <td>12/29/1990</td>\n",
       "      <td>14</td>\n",
       "    </tr>\n",
       "    <tr>\n",
       "      <th>3648</th>\n",
       "      <td>12/30/1990</td>\n",
       "      <td>16</td>\n",
       "    </tr>\n",
       "    <tr>\n",
       "      <th>3649</th>\n",
       "      <td>12/31/1990</td>\n",
       "      <td>13</td>\n",
       "    </tr>\n",
       "  </tbody>\n",
       "</table>\n",
       "</div>"
      ],
      "text/plain": [
       "            Date Daily minimum temperatures\n",
       "3645  12/27/1990                         14\n",
       "3646  12/28/1990                         14\n",
       "3647  12/29/1990                         14\n",
       "3648  12/30/1990                         16\n",
       "3649  12/31/1990                         13"
      ]
     },
     "execution_count": 8,
     "metadata": {},
     "output_type": "execute_result"
    }
   ],
   "source": [
    "tempratures.tail()"
   ]
  },
  {
   "cell_type": "markdown",
   "id": "6229a0e8",
   "metadata": {},
   "source": [
    "### frequncy distribution"
   ]
  },
  {
   "cell_type": "code",
   "execution_count": 9,
   "id": "6f84073e",
   "metadata": {},
   "outputs": [
    {
     "data": {
      "text/plain": [
       "11         347\n",
       "10         344\n",
       "13         334\n",
       "9          311\n",
       "12         297\n",
       "8          285\n",
       "14         263\n",
       "15         243\n",
       "7          242\n",
       "16         201\n",
       "6          169\n",
       "17         134\n",
       "5          115\n",
       "18          72\n",
       "4           69\n",
       "19          47\n",
       "3           38\n",
       "20          35\n",
       "21          28\n",
       "2           23\n",
       "22          19\n",
       "1           13\n",
       "23           5\n",
       "25           4\n",
       "24           4\n",
       "0            4\n",
       "#VALUE!      3\n",
       "26           1\n",
       "Name: Daily minimum temperatures, dtype: int64"
      ]
     },
     "execution_count": 9,
     "metadata": {},
     "output_type": "execute_result"
    }
   ],
   "source": [
    "tempratures[\"Daily minimum temperatures\"].value_counts()"
   ]
  },
  {
   "cell_type": "code",
   "execution_count": 10,
   "id": "2e4a855f",
   "metadata": {},
   "outputs": [
    {
     "data": {
      "text/plain": [
       "0       21\n",
       "1       18\n",
       "2       19\n",
       "3       15\n",
       "4       16\n",
       "        ..\n",
       "3645    14\n",
       "3646    14\n",
       "3647    14\n",
       "3648    16\n",
       "3649    13\n",
       "Name: Daily minimum temperatures, Length: 3650, dtype: object"
      ]
     },
     "execution_count": 10,
     "metadata": {},
     "output_type": "execute_result"
    }
   ],
   "source": [
    "tempratures[\"Daily minimum temperatures\"]"
   ]
  },
  {
   "cell_type": "code",
   "execution_count": 11,
   "id": "66cdbc9b",
   "metadata": {},
   "outputs": [
    {
     "data": {
      "text/plain": [
       "0       21\n",
       "1       18\n",
       "2       19\n",
       "3       15\n",
       "4       16\n",
       "        ..\n",
       "3645    14\n",
       "3646    14\n",
       "3647    14\n",
       "3648    16\n",
       "3649    13\n",
       "Name: Daily minimum temperatures, Length: 3650, dtype: object"
      ]
     },
     "execution_count": 11,
     "metadata": {},
     "output_type": "execute_result"
    }
   ],
   "source": [
    "tempratures[\"Daily minimum temperatures\"]"
   ]
  },
  {
   "cell_type": "code",
   "execution_count": 12,
   "id": "4c8b49f3",
   "metadata": {},
   "outputs": [
    {
     "data": {
      "text/plain": [
       "<Axes: >"
      ]
     },
     "execution_count": 12,
     "metadata": {},
     "output_type": "execute_result"
    },
    {
     "data": {
      "image/png": "[encoded data removed]",
      "text/plain": [
       "<Figure size 640x480 with 1 Axes>"
      ]
     },
     "metadata": {},
     "output_type": "display_data"
    }
   ],
   "source": [
    "tempratures[\"Daily minimum temperatures\"].hist()"
   ]
  },
  {
   "cell_type": "markdown",
   "id": "2e078e38",
   "metadata": {},
   "source": [
    "### measure of central tendency"
   ]
  },
  {
   "cell_type": "markdown",
   "id": "335c1b12",
   "metadata": {},
   "source": [
    "##### 1. mode"
   ]
  },
  {
   "cell_type": "code",
   "execution_count": 13,
   "id": "c21fae24",
   "metadata": {},
   "outputs": [
    {
     "data": {
      "text/plain": [
       "0    11\n",
       "Name: Daily minimum temperatures, dtype: object"
      ]
     },
     "execution_count": 13,
     "metadata": {},
     "output_type": "execute_result"
    }
   ],
   "source": [
    "tempratures[\"Daily minimum temperatures\"].mode()"
   ]
  },
  {
   "cell_type": "markdown",
   "id": "016cf88e",
   "metadata": {},
   "source": [
    "##### 2. median"
   ]
  },
  {
   "cell_type": "code",
   "execution_count": 25,
   "id": "565ca7a1",
   "metadata": {},
   "outputs": [
    {
     "data": {
      "text/plain": [
       "0       False\n",
       "1       False\n",
       "2       False\n",
       "3       False\n",
       "4       False\n",
       "        ...  \n",
       "3645    False\n",
       "3646    False\n",
       "3647    False\n",
       "3648    False\n",
       "3649    False\n",
       "Name: Daily minimum temperatures, Length: 3650, dtype: bool"
      ]
     },
     "execution_count": 25,
     "metadata": {},
     "output_type": "execute_result"
    }
   ],
   "source": [
    "tempratures[\"Daily minimum temperatures\"].isnull()"
   ]
  },
  {
   "cell_type": "code",
   "execution_count": 26,
   "id": "1ddaf110",
   "metadata": {},
   "outputs": [
    {
     "data": {
      "text/plain": [
       "array(['21', '18', '19', '15', '16', '17', '22', '20', '13', '25', '12',\n",
       "       '14', '11', '8', '9', '10', '7', '5', '6', '3', '2', '4', '24',\n",
       "       '23', '26', '0', '1', '#VALUE!'], dtype=object)"
      ]
     },
     "execution_count": 26,
     "metadata": {},
     "output_type": "execute_result"
    }
   ],
   "source": [
    "tempratures[\"Daily minimum temperatures\"].unique()"
   ]
  },
  {
   "cell_type": "code",
   "execution_count": 43,
   "id": "e5e2398a",
   "metadata": {},
   "outputs": [],
   "source": [
    "temp_ser = tempratures[\"Daily minimum temperatures\"].replace('#VALUE!', '0')"
   ]
  },
  {
   "cell_type": "code",
   "execution_count": 44,
   "id": "1548e34e",
   "metadata": {},
   "outputs": [
    {
     "data": {
      "text/plain": [
       "array(['21', '18', '19', '15', '16', '17', '22', '20', '13', '25', '12',\n",
       "       '14', '11', '8', '9', '10', '7', '5', '6', '3', '2', '4', '24',\n",
       "       '23', '26', '0', '1'], dtype=object)"
      ]
     },
     "execution_count": 44,
     "metadata": {},
     "output_type": "execute_result"
    }
   ],
   "source": [
    "temp_ser.unique()"
   ]
  },
  {
   "cell_type": "code",
   "execution_count": 41,
   "id": "789b763e",
   "metadata": {},
   "outputs": [
    {
     "data": {
      "text/plain": [
       "11.0"
      ]
     },
     "execution_count": 41,
     "metadata": {},
     "output_type": "execute_result"
    }
   ],
   "source": [
    "temp_ser.median()"
   ]
  },
  {
   "cell_type": "markdown",
   "id": "db9c0392",
   "metadata": {},
   "source": [
    "##### 3. mean"
   ]
  },
  {
   "cell_type": "code",
   "execution_count": 48,
   "id": "b365cc8a",
   "metadata": {},
   "outputs": [
    {
     "data": {
      "text/plain": [
       "inf"
      ]
     },
     "execution_count": 48,
     "metadata": {},
     "output_type": "execute_result"
    }
   ],
   "source": [
    "temp_ser.mean()"
   ]
  },
  {
   "cell_type": "code",
   "execution_count": 49,
   "id": "80a18fbf",
   "metadata": {},
   "outputs": [],
   "source": [
    "temp_ser1 = temp_ser.astype(int)"
   ]
  },
  {
   "cell_type": "code",
   "execution_count": 51,
   "id": "0a0d215d",
   "metadata": {},
   "outputs": [
    {
     "data": {
      "text/plain": [
       "array([21, 18, 19, 15, 16, 17, 22, 20, 13, 25, 12, 14, 11,  8,  9, 10,  7,\n",
       "        5,  6,  3,  2,  4, 24, 23, 26,  0,  1])"
      ]
     },
     "execution_count": 51,
     "metadata": {},
     "output_type": "execute_result"
    }
   ],
   "source": [
    "temp_ser1.unique()"
   ]
  },
  {
   "cell_type": "code",
   "execution_count": 52,
   "id": "e90a5d57",
   "metadata": {},
   "outputs": [
    {
     "data": {
      "text/plain": [
       "11.24027397260274"
      ]
     },
     "execution_count": 52,
     "metadata": {},
     "output_type": "execute_result"
    }
   ],
   "source": [
    "temp_ser1.mean()"
   ]
  },
  {
   "cell_type": "markdown",
   "id": "f6b2cc4d",
   "metadata": {},
   "source": [
    "### measure of variablity"
   ]
  },
  {
   "cell_type": "markdown",
   "id": "82e52d79",
   "metadata": {},
   "source": [
    "##### 1. range"
   ]
  },
  {
   "cell_type": "code",
   "execution_count": 53,
   "id": "105da748",
   "metadata": {},
   "outputs": [
    {
     "data": {
      "text/plain": [
       "0"
      ]
     },
     "execution_count": 53,
     "metadata": {},
     "output_type": "execute_result"
    }
   ],
   "source": [
    "temp_ser1.max()"
   ]
  },
  {
   "cell_type": "code",
   "execution_count": 54,
   "id": "e8367d9d",
   "metadata": {},
   "outputs": [
    {
     "data": {
      "text/plain": [
       "26"
      ]
     },
     "execution_count": 54,
     "metadata": {},
     "output_type": "execute_result"
    }
   ],
   "source": [
    "temp_ser1.max()"
   ]
  },
  {
   "cell_type": "code",
   "execution_count": 57,
   "id": "023e90a1",
   "metadata": {},
   "outputs": [],
   "source": [
    "range = temp_ser1.max() - temp_ser1.min()"
   ]
  },
  {
   "cell_type": "code",
   "execution_count": 58,
   "id": "322182a8",
   "metadata": {},
   "outputs": [
    {
     "data": {
      "text/plain": [
       "26"
      ]
     },
     "execution_count": 58,
     "metadata": {},
     "output_type": "execute_result"
    }
   ],
   "source": [
    "range"
   ]
  },
  {
   "cell_type": "markdown",
   "id": "1f9e4a48",
   "metadata": {},
   "source": [
    "##### 2. standard deviation"
   ]
  },
  {
   "cell_type": "code",
   "execution_count": 59,
   "id": "05cc6323",
   "metadata": {},
   "outputs": [
    {
     "data": {
      "text/plain": [
       "4.07568435900678"
      ]
     },
     "execution_count": 59,
     "metadata": {},
     "output_type": "execute_result"
    }
   ],
   "source": [
    "temp_ser1.std()"
   ]
  },
  {
   "cell_type": "markdown",
   "id": "45f24d9f",
   "metadata": {},
   "source": [
    "##### 3. variance"
   ]
  },
  {
   "cell_type": "code",
   "execution_count": 60,
   "id": "7fad25fd",
   "metadata": {},
   "outputs": [
    {
     "data": {
      "text/plain": [
       "16.611202994252505"
      ]
     },
     "execution_count": 60,
     "metadata": {},
     "output_type": "execute_result"
    }
   ],
   "source": [
    "temp_ser1.var()"
   ]
  },
  {
   "cell_type": "code",
   "execution_count": 61,
   "id": "906f0002",
   "metadata": {},
   "outputs": [],
   "source": [
    "x = 4.07568435900678 * 4.07568435900678"
   ]
  },
  {
   "cell_type": "code",
   "execution_count": 62,
   "id": "46b050db",
   "metadata": {},
   "outputs": [
    {
     "data": {
      "text/plain": [
       "16.611202994252505"
      ]
     },
     "execution_count": 62,
     "metadata": {},
     "output_type": "execute_result"
    }
   ],
   "source": [
    "x"
   ]
  },
  {
   "cell_type": "markdown",
   "id": "1a91666b",
   "metadata": {},
   "source": [
    "# Ratio LOM"
   ]
  },
  {
   "cell_type": "code",
   "execution_count": null,
   "id": "13797702",
   "metadata": {},
   "outputs": [],
   "source": [
    "Descriptive statistics:\n",
    "    measure of summary:\n",
    "        frequency distribution\n",
    "    measure of central tendency:\n",
    "        mode, median, mean\n",
    "    measure of variability:\n",
    "        Range, standard deviation, "
   ]
  },
  {
   "cell_type": "markdown",
   "id": "8a8cbf86",
   "metadata": {},
   "source": [
    "##### 1. frequency distribution"
   ]
  },
  {
   "cell_type": "code",
   "execution_count": 63,
   "id": "6bad53a2",
   "metadata": {},
   "outputs": [],
   "source": [
    "players = pd.read_csv(\"./Soccer_players_data1.csv\")"
   ]
  },
  {
   "cell_type": "code",
   "execution_count": 64,
   "id": "e7350ab9",
   "metadata": {},
   "outputs": [
    {
     "data": {
      "text/html": [
       "<div>\n",
       "<style scoped>\n",
       "    .dataframe tbody tr th:only-of-type {\n",
       "        vertical-align: middle;\n",
       "    }\n",
       "\n",
       "    .dataframe tbody tr th {\n",
       "        vertical-align: top;\n",
       "    }\n",
       "\n",
       "    .dataframe thead th {\n",
       "        text-align: right;\n",
       "    }\n",
       "</style>\n",
       "<table border=\"1\" class=\"dataframe\">\n",
       "  <thead>\n",
       "    <tr style=\"text-align: right;\">\n",
       "      <th></th>\n",
       "      <th>Second name</th>\n",
       "      <th>First name</th>\n",
       "      <th>Gender</th>\n",
       "      <th>Height(cm)</th>\n",
       "      <th>Weight(kg)</th>\n",
       "      <th>Country/Team</th>\n",
       "    </tr>\n",
       "  </thead>\n",
       "  <tbody>\n",
       "    <tr>\n",
       "      <th>0</th>\n",
       "      <td>Abbadi</td>\n",
       "      <td>Ilyas</td>\n",
       "      <td>M</td>\n",
       "      <td>170</td>\n",
       "      <td>69</td>\n",
       "      <td>Algeria</td>\n",
       "    </tr>\n",
       "    <tr>\n",
       "      <th>1</th>\n",
       "      <td>Abbate</td>\n",
       "      <td>Simona</td>\n",
       "      <td>W</td>\n",
       "      <td>171</td>\n",
       "      <td>64</td>\n",
       "      <td>Italy</td>\n",
       "    </tr>\n",
       "    <tr>\n",
       "      <th>2</th>\n",
       "      <td>Abdelaal</td>\n",
       "      <td>Hesham</td>\n",
       "      <td>M</td>\n",
       "      <td>167</td>\n",
       "      <td>52</td>\n",
       "      <td>Egypt</td>\n",
       "    </tr>\n",
       "    <tr>\n",
       "      <th>3</th>\n",
       "      <td>Abdulrahman</td>\n",
       "      <td>Amer</td>\n",
       "      <td>M</td>\n",
       "      <td>168</td>\n",
       "      <td>68</td>\n",
       "      <td>United Arab Emirates</td>\n",
       "    </tr>\n",
       "    <tr>\n",
       "      <th>4</th>\n",
       "      <td>Abian</td>\n",
       "      <td>Pablo</td>\n",
       "      <td>M</td>\n",
       "      <td>177</td>\n",
       "      <td>78</td>\n",
       "      <td>Spain</td>\n",
       "    </tr>\n",
       "    <tr>\n",
       "      <th>...</th>\n",
       "      <td>...</td>\n",
       "      <td>...</td>\n",
       "      <td>...</td>\n",
       "      <td>...</td>\n",
       "      <td>...</td>\n",
       "      <td>...</td>\n",
       "    </tr>\n",
       "    <tr>\n",
       "      <th>1582</th>\n",
       "      <td>Zhou</td>\n",
       "      <td>Peng</td>\n",
       "      <td>M</td>\n",
       "      <td>183</td>\n",
       "      <td>88</td>\n",
       "      <td>China</td>\n",
       "    </tr>\n",
       "    <tr>\n",
       "      <th>1583</th>\n",
       "      <td>Zlokovic</td>\n",
       "      <td>Boris</td>\n",
       "      <td>M</td>\n",
       "      <td>197</td>\n",
       "      <td>100</td>\n",
       "      <td>Montenegro</td>\n",
       "    </tr>\n",
       "    <tr>\n",
       "      <th>1584</th>\n",
       "      <td>Zolnir</td>\n",
       "      <td>Urska</td>\n",
       "      <td>W</td>\n",
       "      <td>173</td>\n",
       "      <td>63</td>\n",
       "      <td>Slovenia</td>\n",
       "    </tr>\n",
       "    <tr>\n",
       "      <th>1585</th>\n",
       "      <td>Zoric</td>\n",
       "      <td>Milenko</td>\n",
       "      <td>M</td>\n",
       "      <td>179</td>\n",
       "      <td>73</td>\n",
       "      <td>Serbia</td>\n",
       "    </tr>\n",
       "    <tr>\n",
       "      <th>1586</th>\n",
       "      <td>Zugaj</td>\n",
       "      <td>Nenad</td>\n",
       "      <td>M</td>\n",
       "      <td>177</td>\n",
       "      <td>84</td>\n",
       "      <td>Croatia</td>\n",
       "    </tr>\n",
       "  </tbody>\n",
       "</table>\n",
       "<p>1587 rows × 6 columns</p>\n",
       "</div>"
      ],
      "text/plain": [
       "      Second name First name Gender  Height(cm)  Weight(kg)  \\\n",
       "0          Abbadi     Ilyas       M         170          69   \n",
       "1          Abbate    Simona       W         171          64   \n",
       "2        Abdelaal    Hesham       M         167          52   \n",
       "3     Abdulrahman      Amer       M         168          68   \n",
       "4           Abian     Pablo       M         177          78   \n",
       "...           ...        ...    ...         ...         ...   \n",
       "1582         Zhou      Peng       M         183          88   \n",
       "1583     Zlokovic     Boris       M         197         100   \n",
       "1584       Zolnir     Urska       W         173          63   \n",
       "1585        Zoric   Milenko       M         179          73   \n",
       "1586        Zugaj     Nenad       M         177          84   \n",
       "\n",
       "              Country/Team  \n",
       "0                  Algeria  \n",
       "1                    Italy  \n",
       "2                    Egypt  \n",
       "3     United Arab Emirates  \n",
       "4                    Spain  \n",
       "...                    ...  \n",
       "1582                 China  \n",
       "1583            Montenegro  \n",
       "1584              Slovenia  \n",
       "1585                Serbia  \n",
       "1586               Croatia  \n",
       "\n",
       "[1587 rows x 6 columns]"
      ]
     },
     "execution_count": 64,
     "metadata": {},
     "output_type": "execute_result"
    }
   ],
   "source": [
    "players"
   ]
  },
  {
   "cell_type": "code",
   "execution_count": 65,
   "id": "8e9f2ed1",
   "metadata": {},
   "outputs": [],
   "source": [
    "store = pd.read_csv(\"./store_details.csv\")"
   ]
  },
  {
   "cell_type": "code",
   "execution_count": 66,
   "id": "0d740465",
   "metadata": {},
   "outputs": [
    {
     "data": {
      "text/html": [
       "<div>\n",
       "<style scoped>\n",
       "    .dataframe tbody tr th:only-of-type {\n",
       "        vertical-align: middle;\n",
       "    }\n",
       "\n",
       "    .dataframe tbody tr th {\n",
       "        vertical-align: top;\n",
       "    }\n",
       "\n",
       "    .dataframe thead th {\n",
       "        text-align: right;\n",
       "    }\n",
       "</style>\n",
       "<table border=\"1\" class=\"dataframe\">\n",
       "  <thead>\n",
       "    <tr style=\"text-align: right;\">\n",
       "      <th></th>\n",
       "      <th>Store</th>\n",
       "      <th>Sales per Square Foot ($)</th>\n",
       "      <th>Size of Store (in Sq. Ft.)</th>\n",
       "      <th>Advertising Dollars</th>\n",
       "      <th>Number of Products Offered in Store</th>\n",
       "    </tr>\n",
       "  </thead>\n",
       "  <tbody>\n",
       "    <tr>\n",
       "      <th>0</th>\n",
       "      <td>1</td>\n",
       "      <td>837</td>\n",
       "      <td>64796</td>\n",
       "      <td>22000</td>\n",
       "      <td>32920</td>\n",
       "    </tr>\n",
       "    <tr>\n",
       "      <th>1</th>\n",
       "      <td>2</td>\n",
       "      <td>748</td>\n",
       "      <td>74179</td>\n",
       "      <td>58000</td>\n",
       "      <td>25034</td>\n",
       "    </tr>\n",
       "    <tr>\n",
       "      <th>2</th>\n",
       "      <td>3</td>\n",
       "      <td>744</td>\n",
       "      <td>70298</td>\n",
       "      <td>58000</td>\n",
       "      <td>23989</td>\n",
       "    </tr>\n",
       "    <tr>\n",
       "      <th>3</th>\n",
       "      <td>4</td>\n",
       "      <td>853</td>\n",
       "      <td>63367</td>\n",
       "      <td>56000</td>\n",
       "      <td>31095</td>\n",
       "    </tr>\n",
       "    <tr>\n",
       "      <th>4</th>\n",
       "      <td>5</td>\n",
       "      <td>839</td>\n",
       "      <td>74412</td>\n",
       "      <td>67000</td>\n",
       "      <td>35055</td>\n",
       "    </tr>\n",
       "    <tr>\n",
       "      <th>...</th>\n",
       "      <td>...</td>\n",
       "      <td>...</td>\n",
       "      <td>...</td>\n",
       "      <td>...</td>\n",
       "      <td>...</td>\n",
       "    </tr>\n",
       "    <tr>\n",
       "      <th>65</th>\n",
       "      <td>66</td>\n",
       "      <td>812</td>\n",
       "      <td>60021</td>\n",
       "      <td>21000</td>\n",
       "      <td>23946</td>\n",
       "    </tr>\n",
       "    <tr>\n",
       "      <th>66</th>\n",
       "      <td>67</td>\n",
       "      <td>864</td>\n",
       "      <td>53108</td>\n",
       "      <td>52000</td>\n",
       "      <td>31507</td>\n",
       "    </tr>\n",
       "    <tr>\n",
       "      <th>67</th>\n",
       "      <td>68</td>\n",
       "      <td>924</td>\n",
       "      <td>55101</td>\n",
       "      <td>70000</td>\n",
       "      <td>24530</td>\n",
       "    </tr>\n",
       "    <tr>\n",
       "      <th>68</th>\n",
       "      <td>69</td>\n",
       "      <td>767</td>\n",
       "      <td>76177</td>\n",
       "      <td>60000</td>\n",
       "      <td>37966</td>\n",
       "    </tr>\n",
       "    <tr>\n",
       "      <th>69</th>\n",
       "      <td>70</td>\n",
       "      <td>808</td>\n",
       "      <td>64877</td>\n",
       "      <td>22000</td>\n",
       "      <td>22950</td>\n",
       "    </tr>\n",
       "  </tbody>\n",
       "</table>\n",
       "<p>70 rows × 5 columns</p>\n",
       "</div>"
      ],
      "text/plain": [
       "    Store  Sales per Square Foot ($)  Size of Store (in Sq. Ft.)  \\\n",
       "0       1                        837                       64796   \n",
       "1       2                        748                       74179   \n",
       "2       3                        744                       70298   \n",
       "3       4                        853                       63367   \n",
       "4       5                        839                       74412   \n",
       "..    ...                        ...                         ...   \n",
       "65     66                        812                       60021   \n",
       "66     67                        864                       53108   \n",
       "67     68                        924                       55101   \n",
       "68     69                        767                       76177   \n",
       "69     70                        808                       64877   \n",
       "\n",
       "    Advertising Dollars  Number of Products Offered in Store  \n",
       "0                 22000                                32920  \n",
       "1                 58000                                25034  \n",
       "2                 58000                                23989  \n",
       "3                 56000                                31095  \n",
       "4                 67000                                35055  \n",
       "..                  ...                                  ...  \n",
       "65                21000                                23946  \n",
       "66                52000                                31507  \n",
       "67                70000                                24530  \n",
       "68                60000                                37966  \n",
       "69                22000                                22950  \n",
       "\n",
       "[70 rows x 5 columns]"
      ]
     },
     "execution_count": 66,
     "metadata": {},
     "output_type": "execute_result"
    }
   ],
   "source": [
    "store"
   ]
  },
  {
   "cell_type": "code",
   "execution_count": 67,
   "id": "3b0e4cd5",
   "metadata": {},
   "outputs": [
    {
     "data": {
      "text/plain": [
       "Index(['Second name', 'First name', 'Gender', 'Height(cm)', 'Weight(kg)',\n",
       "       'Country/Team'],\n",
       "      dtype='object')"
      ]
     },
     "execution_count": 67,
     "metadata": {},
     "output_type": "execute_result"
    }
   ],
   "source": [
    "players.columns"
   ]
  },
  {
   "cell_type": "code",
   "execution_count": 68,
   "id": "7f40fc3a",
   "metadata": {},
   "outputs": [],
   "source": [
    "ratio = players[['Height(cm)', 'Weight(kg)']]"
   ]
  },
  {
   "cell_type": "code",
   "execution_count": 70,
   "id": "02b3cfd3",
   "metadata": {},
   "outputs": [
    {
     "data": {
      "text/html": [
       "<div>\n",
       "<style scoped>\n",
       "    .dataframe tbody tr th:only-of-type {\n",
       "        vertical-align: middle;\n",
       "    }\n",
       "\n",
       "    .dataframe tbody tr th {\n",
       "        vertical-align: top;\n",
       "    }\n",
       "\n",
       "    .dataframe thead th {\n",
       "        text-align: right;\n",
       "    }\n",
       "</style>\n",
       "<table border=\"1\" class=\"dataframe\">\n",
       "  <thead>\n",
       "    <tr style=\"text-align: right;\">\n",
       "      <th></th>\n",
       "      <th>Height(cm)</th>\n",
       "      <th>Weight(kg)</th>\n",
       "    </tr>\n",
       "  </thead>\n",
       "  <tbody>\n",
       "    <tr>\n",
       "      <th>0</th>\n",
       "      <td>170</td>\n",
       "      <td>69</td>\n",
       "    </tr>\n",
       "    <tr>\n",
       "      <th>1</th>\n",
       "      <td>171</td>\n",
       "      <td>64</td>\n",
       "    </tr>\n",
       "    <tr>\n",
       "      <th>2</th>\n",
       "      <td>167</td>\n",
       "      <td>52</td>\n",
       "    </tr>\n",
       "    <tr>\n",
       "      <th>3</th>\n",
       "      <td>168</td>\n",
       "      <td>68</td>\n",
       "    </tr>\n",
       "    <tr>\n",
       "      <th>4</th>\n",
       "      <td>177</td>\n",
       "      <td>78</td>\n",
       "    </tr>\n",
       "    <tr>\n",
       "      <th>...</th>\n",
       "      <td>...</td>\n",
       "      <td>...</td>\n",
       "    </tr>\n",
       "    <tr>\n",
       "      <th>1582</th>\n",
       "      <td>183</td>\n",
       "      <td>88</td>\n",
       "    </tr>\n",
       "    <tr>\n",
       "      <th>1583</th>\n",
       "      <td>197</td>\n",
       "      <td>100</td>\n",
       "    </tr>\n",
       "    <tr>\n",
       "      <th>1584</th>\n",
       "      <td>173</td>\n",
       "      <td>63</td>\n",
       "    </tr>\n",
       "    <tr>\n",
       "      <th>1585</th>\n",
       "      <td>179</td>\n",
       "      <td>73</td>\n",
       "    </tr>\n",
       "    <tr>\n",
       "      <th>1586</th>\n",
       "      <td>177</td>\n",
       "      <td>84</td>\n",
       "    </tr>\n",
       "  </tbody>\n",
       "</table>\n",
       "<p>1587 rows × 2 columns</p>\n",
       "</div>"
      ],
      "text/plain": [
       "      Height(cm)  Weight(kg)\n",
       "0            170          69\n",
       "1            171          64\n",
       "2            167          52\n",
       "3            168          68\n",
       "4            177          78\n",
       "...          ...         ...\n",
       "1582         183          88\n",
       "1583         197         100\n",
       "1584         173          63\n",
       "1585         179          73\n",
       "1586         177          84\n",
       "\n",
       "[1587 rows x 2 columns]"
      ]
     },
     "execution_count": 70,
     "metadata": {},
     "output_type": "execute_result"
    }
   ],
   "source": [
    "ratio.dropna()"
   ]
  },
  {
   "cell_type": "code",
   "execution_count": 74,
   "id": "6874d798",
   "metadata": {},
   "outputs": [
    {
     "data": {
      "text/plain": [
       "170    89\n",
       "180    85\n",
       "178    82\n",
       "175    68\n",
       "183    65\n",
       "       ..\n",
       "146     1\n",
       "140     1\n",
       "210     1\n",
       "201     1\n",
       "219     1\n",
       "Name: Height(cm), Length: 69, dtype: int64"
      ]
     },
     "execution_count": 74,
     "metadata": {},
     "output_type": "execute_result"
    }
   ],
   "source": [
    "players[\"Height(cm)\"].value_counts()"
   ]
  },
  {
   "cell_type": "code",
   "execution_count": 75,
   "id": "3269a28e",
   "metadata": {},
   "outputs": [
    {
     "data": {
      "text/plain": [
       "<Axes: >"
      ]
     },
     "execution_count": 75,
     "metadata": {},
     "output_type": "execute_result"
    },
    {
     "data": {
      "image/png": "[encoded data removed]",
      "text/plain": [
       "<Figure size 640x480 with 1 Axes>"
      ]
     },
     "metadata": {},
     "output_type": "display_data"
    }
   ],
   "source": [
    "players[\"Height(cm)\"].hist()"
   ]
  },
  {
   "cell_type": "code",
   "execution_count": null,
   "id": "ec7040a6",
   "metadata": {},
   "outputs": [],
   "source": []
  },
  {
   "cell_type": "code",
   "execution_count": 77,
   "id": "c0063fa0",
   "metadata": {},
   "outputs": [
    {
     "data": {
      "text/plain": [
       "70     65\n",
       "60     62\n",
       "65     56\n",
       "68     53\n",
       "75     53\n",
       "       ..\n",
       "116     1\n",
       "44      1\n",
       "123     1\n",
       "43      1\n",
       "35      1\n",
       "Name: Weight(kg), Length: 87, dtype: int64"
      ]
     },
     "execution_count": 77,
     "metadata": {},
     "output_type": "execute_result"
    }
   ],
   "source": [
    "players[\"Weight(kg)\"].value_counts()"
   ]
  },
  {
   "cell_type": "code",
   "execution_count": 78,
   "id": "39a7417c",
   "metadata": {},
   "outputs": [
    {
     "data": {
      "text/plain": [
       "<Axes: >"
      ]
     },
     "execution_count": 78,
     "metadata": {},
     "output_type": "execute_result"
    },
    {
     "data": {
      "image/png": "[encoded data removed]",
      "text/plain": [
       "<Figure size 640x480 with 1 Axes>"
      ]
     },
     "metadata": {},
     "output_type": "display_data"
    }
   ],
   "source": [
    "players[\"Weight(kg)\"].hist()"
   ]
  },
  {
   "cell_type": "code",
   "execution_count": 80,
   "id": "df250a87",
   "metadata": {},
   "outputs": [
    {
     "data": {
      "text/plain": [
       "56000    4\n",
       "60000    4\n",
       "63000    3\n",
       "54000    3\n",
       "67000    3\n",
       "66000    3\n",
       "27000    3\n",
       "21000    3\n",
       "31000    3\n",
       "65000    3\n",
       "70000    3\n",
       "45000    2\n",
       "64000    2\n",
       "43000    2\n",
       "58000    2\n",
       "22000    2\n",
       "42000    2\n",
       "48000    2\n",
       "33000    2\n",
       "68000    2\n",
       "30000    2\n",
       "69000    1\n",
       "41000    1\n",
       "23000    1\n",
       "47000    1\n",
       "25000    1\n",
       "51000    1\n",
       "57000    1\n",
       "29000    1\n",
       "38000    1\n",
       "24000    1\n",
       "53000    1\n",
       "40000    1\n",
       "59000    1\n",
       "49000    1\n",
       "52000    1\n",
       "Name: Advertising Dollars, dtype: int64"
      ]
     },
     "execution_count": 80,
     "metadata": {},
     "output_type": "execute_result"
    }
   ],
   "source": [
    "store[\"Advertising Dollars\"].value_counts()"
   ]
  },
  {
   "cell_type": "code",
   "execution_count": 81,
   "id": "2e2ddd23",
   "metadata": {},
   "outputs": [
    {
     "data": {
      "text/plain": [
       "<Axes: >"
      ]
     },
     "execution_count": 81,
     "metadata": {},
     "output_type": "execute_result"
    },
    {
     "data": {
      "image/png": "[encoded data removed]",
      "text/plain": [
       "<Figure size 640x480 with 1 Axes>"
      ]
     },
     "metadata": {},
     "output_type": "display_data"
    }
   ],
   "source": [
    "store[\"Advertising Dollars\"].hist()"
   ]
  },
  {
   "cell_type": "markdown",
   "id": "7c4906c4",
   "metadata": {},
   "source": [
    "#### measure of central tendency:"
   ]
  },
  {
   "cell_type": "markdown",
   "id": "7a54c3db",
   "metadata": {},
   "source": [
    "##### 1. mode"
   ]
  },
  {
   "cell_type": "code",
   "execution_count": 82,
   "id": "276fe26b",
   "metadata": {},
   "outputs": [
    {
     "data": {
      "text/plain": [
       "0    170\n",
       "Name: Height(cm), dtype: int64"
      ]
     },
     "execution_count": 82,
     "metadata": {},
     "output_type": "execute_result"
    }
   ],
   "source": [
    "players[\"Height(cm)\"].mode()"
   ]
  },
  {
   "cell_type": "code",
   "execution_count": 83,
   "id": "e82fb97f",
   "metadata": {},
   "outputs": [
    {
     "data": {
      "text/plain": [
       "170    89\n",
       "180    85\n",
       "178    82\n",
       "175    68\n",
       "183    65\n",
       "       ..\n",
       "146     1\n",
       "140     1\n",
       "210     1\n",
       "201     1\n",
       "219     1\n",
       "Name: Height(cm), Length: 69, dtype: int64"
      ]
     },
     "execution_count": 83,
     "metadata": {},
     "output_type": "execute_result"
    }
   ],
   "source": [
    "players[\"Height(cm)\"].value_counts()"
   ]
  },
  {
   "cell_type": "code",
   "execution_count": 84,
   "id": "d7d18a49",
   "metadata": {},
   "outputs": [
    {
     "data": {
      "text/plain": [
       "0    70\n",
       "Name: Weight(kg), dtype: int64"
      ]
     },
     "execution_count": 84,
     "metadata": {},
     "output_type": "execute_result"
    }
   ],
   "source": [
    "players[\"Weight(kg)\"].mode()"
   ]
  },
  {
   "cell_type": "markdown",
   "id": "14d3b56a",
   "metadata": {},
   "source": [
    "##### 2. median"
   ]
  },
  {
   "cell_type": "code",
   "execution_count": 85,
   "id": "2440ce87",
   "metadata": {},
   "outputs": [
    {
     "data": {
      "text/plain": [
       "177.0"
      ]
     },
     "execution_count": 85,
     "metadata": {},
     "output_type": "execute_result"
    }
   ],
   "source": [
    "players[\"Height(cm)\"].median()"
   ]
  },
  {
   "cell_type": "code",
   "execution_count": 86,
   "id": "d96479ab",
   "metadata": {},
   "outputs": [
    {
     "data": {
      "text/plain": [
       "70.0"
      ]
     },
     "execution_count": 86,
     "metadata": {},
     "output_type": "execute_result"
    }
   ],
   "source": [
    "players[\"Weight(kg)\"].median()"
   ]
  },
  {
   "cell_type": "markdown",
   "id": "c59c7ef0",
   "metadata": {},
   "source": [
    "##### 3. mean"
   ]
  },
  {
   "cell_type": "code",
   "execution_count": 87,
   "id": "685ff5e0",
   "metadata": {},
   "outputs": [
    {
     "data": {
      "text/plain": [
       "177.4511657214871"
      ]
     },
     "execution_count": 87,
     "metadata": {},
     "output_type": "execute_result"
    }
   ],
   "source": [
    "players[\"Height(cm)\"].mean()"
   ]
  },
  {
   "cell_type": "code",
   "execution_count": 88,
   "id": "c228457b",
   "metadata": {},
   "outputs": [
    {
     "data": {
      "text/plain": [
       "72.65343415248897"
      ]
     },
     "execution_count": 88,
     "metadata": {},
     "output_type": "execute_result"
    }
   ],
   "source": [
    "players[\"Weight(kg)\"].mean()"
   ]
  },
  {
   "cell_type": "markdown",
   "id": "a42da30d",
   "metadata": {},
   "source": [
    "#### measure of variability:\n"
   ]
  },
  {
   "cell_type": "markdown",
   "id": "ed387266",
   "metadata": {},
   "source": [
    "##### 1. Range"
   ]
  },
  {
   "cell_type": "code",
   "execution_count": 90,
   "id": "b6aced3f",
   "metadata": {},
   "outputs": [
    {
     "data": {
      "text/plain": [
       "136"
      ]
     },
     "execution_count": 90,
     "metadata": {},
     "output_type": "execute_result"
    }
   ],
   "source": [
    "players[\"Height(cm)\"].min()"
   ]
  },
  {
   "cell_type": "code",
   "execution_count": 91,
   "id": "2b801c26",
   "metadata": {},
   "outputs": [
    {
     "data": {
      "text/plain": [
       "219"
      ]
     },
     "execution_count": 91,
     "metadata": {},
     "output_type": "execute_result"
    }
   ],
   "source": [
    "players[\"Height(cm)\"].max()"
   ]
  },
  {
   "cell_type": "code",
   "execution_count": 92,
   "id": "65c255f6",
   "metadata": {},
   "outputs": [],
   "source": [
    "range = players[\"Height(cm)\"].max() - players[\"Height(cm)\"].min()"
   ]
  },
  {
   "cell_type": "code",
   "execution_count": 93,
   "id": "87b579c5",
   "metadata": {},
   "outputs": [
    {
     "data": {
      "text/plain": [
       "83"
      ]
     },
     "execution_count": 93,
     "metadata": {},
     "output_type": "execute_result"
    }
   ],
   "source": [
    "range"
   ]
  },
  {
   "cell_type": "code",
   "execution_count": 94,
   "id": "526a32e8",
   "metadata": {},
   "outputs": [
    {
     "data": {
      "text/plain": [
       "30"
      ]
     },
     "execution_count": 94,
     "metadata": {},
     "output_type": "execute_result"
    }
   ],
   "source": [
    "players[\"Weight(kg)\"].min()"
   ]
  },
  {
   "cell_type": "code",
   "execution_count": 95,
   "id": "3c24c056",
   "metadata": {},
   "outputs": [
    {
     "data": {
      "text/plain": [
       "218"
      ]
     },
     "execution_count": 95,
     "metadata": {},
     "output_type": "execute_result"
    }
   ],
   "source": [
    "players[\"Weight(kg)\"].max()"
   ]
  },
  {
   "cell_type": "code",
   "execution_count": 96,
   "id": "3922fe1b",
   "metadata": {},
   "outputs": [],
   "source": [
    "range = players[\"Weight(kg)\"].max() - players[\"Weight(kg)\"].min()"
   ]
  },
  {
   "cell_type": "code",
   "execution_count": 97,
   "id": "82459138",
   "metadata": {},
   "outputs": [
    {
     "data": {
      "text/plain": [
       "188"
      ]
     },
     "execution_count": 97,
     "metadata": {},
     "output_type": "execute_result"
    }
   ],
   "source": [
    "range "
   ]
  },
  {
   "cell_type": "markdown",
   "id": "ad73d81c",
   "metadata": {},
   "source": [
    "##### 2. standard deviation"
   ]
  },
  {
   "cell_type": "code",
   "execution_count": 98,
   "id": "393af31a",
   "metadata": {},
   "outputs": [
    {
     "data": {
      "text/plain": [
       "11.287679379087578"
      ]
     },
     "execution_count": 98,
     "metadata": {},
     "output_type": "execute_result"
    }
   ],
   "source": [
    "players[\"Height(cm)\"].std()"
   ]
  },
  {
   "cell_type": "code",
   "execution_count": 99,
   "id": "09bf39cf",
   "metadata": {},
   "outputs": [
    {
     "data": {
      "text/plain": [
       "16.00983676149772"
      ]
     },
     "execution_count": 99,
     "metadata": {},
     "output_type": "execute_result"
    }
   ],
   "source": [
    "players[\"Weight(kg)\"].std()"
   ]
  },
  {
   "cell_type": "code",
   "execution_count": 100,
   "id": "33f9c008",
   "metadata": {},
   "outputs": [
    {
     "data": {
      "text/plain": [
       "15887.864035246665"
      ]
     },
     "execution_count": 100,
     "metadata": {},
     "output_type": "execute_result"
    }
   ],
   "source": [
    "store[\"Advertising Dollars\"].std()"
   ]
  },
  {
   "cell_type": "code",
   "execution_count": 101,
   "id": "fcc7aa2e",
   "metadata": {},
   "outputs": [
    {
     "data": {
      "text/html": [
       "<div>\n",
       "<style scoped>\n",
       "    .dataframe tbody tr th:only-of-type {\n",
       "        vertical-align: middle;\n",
       "    }\n",
       "\n",
       "    .dataframe tbody tr th {\n",
       "        vertical-align: top;\n",
       "    }\n",
       "\n",
       "    .dataframe thead th {\n",
       "        text-align: right;\n",
       "    }\n",
       "</style>\n",
       "<table border=\"1\" class=\"dataframe\">\n",
       "  <thead>\n",
       "    <tr style=\"text-align: right;\">\n",
       "      <th></th>\n",
       "      <th>Store</th>\n",
       "      <th>Sales per Square Foot ($)</th>\n",
       "      <th>Size of Store (in Sq. Ft.)</th>\n",
       "      <th>Advertising Dollars</th>\n",
       "      <th>Number of Products Offered in Store</th>\n",
       "    </tr>\n",
       "  </thead>\n",
       "  <tbody>\n",
       "    <tr>\n",
       "      <th>0</th>\n",
       "      <td>1</td>\n",
       "      <td>837</td>\n",
       "      <td>64796</td>\n",
       "      <td>22000</td>\n",
       "      <td>32920</td>\n",
       "    </tr>\n",
       "    <tr>\n",
       "      <th>1</th>\n",
       "      <td>2</td>\n",
       "      <td>748</td>\n",
       "      <td>74179</td>\n",
       "      <td>58000</td>\n",
       "      <td>25034</td>\n",
       "    </tr>\n",
       "    <tr>\n",
       "      <th>2</th>\n",
       "      <td>3</td>\n",
       "      <td>744</td>\n",
       "      <td>70298</td>\n",
       "      <td>58000</td>\n",
       "      <td>23989</td>\n",
       "    </tr>\n",
       "    <tr>\n",
       "      <th>3</th>\n",
       "      <td>4</td>\n",
       "      <td>853</td>\n",
       "      <td>63367</td>\n",
       "      <td>56000</td>\n",
       "      <td>31095</td>\n",
       "    </tr>\n",
       "    <tr>\n",
       "      <th>4</th>\n",
       "      <td>5</td>\n",
       "      <td>839</td>\n",
       "      <td>74412</td>\n",
       "      <td>67000</td>\n",
       "      <td>35055</td>\n",
       "    </tr>\n",
       "    <tr>\n",
       "      <th>...</th>\n",
       "      <td>...</td>\n",
       "      <td>...</td>\n",
       "      <td>...</td>\n",
       "      <td>...</td>\n",
       "      <td>...</td>\n",
       "    </tr>\n",
       "    <tr>\n",
       "      <th>65</th>\n",
       "      <td>66</td>\n",
       "      <td>812</td>\n",
       "      <td>60021</td>\n",
       "      <td>21000</td>\n",
       "      <td>23946</td>\n",
       "    </tr>\n",
       "    <tr>\n",
       "      <th>66</th>\n",
       "      <td>67</td>\n",
       "      <td>864</td>\n",
       "      <td>53108</td>\n",
       "      <td>52000</td>\n",
       "      <td>31507</td>\n",
       "    </tr>\n",
       "    <tr>\n",
       "      <th>67</th>\n",
       "      <td>68</td>\n",
       "      <td>924</td>\n",
       "      <td>55101</td>\n",
       "      <td>70000</td>\n",
       "      <td>24530</td>\n",
       "    </tr>\n",
       "    <tr>\n",
       "      <th>68</th>\n",
       "      <td>69</td>\n",
       "      <td>767</td>\n",
       "      <td>76177</td>\n",
       "      <td>60000</td>\n",
       "      <td>37966</td>\n",
       "    </tr>\n",
       "    <tr>\n",
       "      <th>69</th>\n",
       "      <td>70</td>\n",
       "      <td>808</td>\n",
       "      <td>64877</td>\n",
       "      <td>22000</td>\n",
       "      <td>22950</td>\n",
       "    </tr>\n",
       "  </tbody>\n",
       "</table>\n",
       "<p>70 rows × 5 columns</p>\n",
       "</div>"
      ],
      "text/plain": [
       "    Store  Sales per Square Foot ($)  Size of Store (in Sq. Ft.)  \\\n",
       "0       1                        837                       64796   \n",
       "1       2                        748                       74179   \n",
       "2       3                        744                       70298   \n",
       "3       4                        853                       63367   \n",
       "4       5                        839                       74412   \n",
       "..    ...                        ...                         ...   \n",
       "65     66                        812                       60021   \n",
       "66     67                        864                       53108   \n",
       "67     68                        924                       55101   \n",
       "68     69                        767                       76177   \n",
       "69     70                        808                       64877   \n",
       "\n",
       "    Advertising Dollars  Number of Products Offered in Store  \n",
       "0                 22000                                32920  \n",
       "1                 58000                                25034  \n",
       "2                 58000                                23989  \n",
       "3                 56000                                31095  \n",
       "4                 67000                                35055  \n",
       "..                  ...                                  ...  \n",
       "65                21000                                23946  \n",
       "66                52000                                31507  \n",
       "67                70000                                24530  \n",
       "68                60000                                37966  \n",
       "69                22000                                22950  \n",
       "\n",
       "[70 rows x 5 columns]"
      ]
     },
     "execution_count": 101,
     "metadata": {},
     "output_type": "execute_result"
    }
   ],
   "source": [
    "store"
   ]
  },
  {
   "cell_type": "code",
   "execution_count": 102,
   "id": "57f260a6",
   "metadata": {},
   "outputs": [
    {
     "data": {
      "text/plain": [
       "64.55864652066143"
      ]
     },
     "execution_count": 102,
     "metadata": {},
     "output_type": "execute_result"
    }
   ],
   "source": [
    "store[\"Sales per Square Foot ($)\"].std()"
   ]
  },
  {
   "cell_type": "markdown",
   "id": "f252ae69",
   "metadata": {},
   "source": [
    "##### variance"
   ]
  },
  {
   "cell_type": "code",
   "execution_count": 103,
   "id": "f71a6cd7",
   "metadata": {},
   "outputs": [
    {
     "data": {
      "text/plain": [
       "127.41170576507895"
      ]
     },
     "execution_count": 103,
     "metadata": {},
     "output_type": "execute_result"
    }
   ],
   "source": [
    "players[\"Height(cm)\"].var()"
   ]
  },
  {
   "cell_type": "code",
   "execution_count": 104,
   "id": "5821b20f",
   "metadata": {},
   "outputs": [
    {
     "data": {
      "text/plain": [
       "256.31487312980386"
      ]
     },
     "execution_count": 104,
     "metadata": {},
     "output_type": "execute_result"
    }
   ],
   "source": [
    "players[\"Weight(kg)\"].var()"
   ]
  },
  {
   "cell_type": "code",
   "execution_count": 105,
   "id": "d1281940",
   "metadata": {},
   "outputs": [
    {
     "data": {
      "text/plain": [
       "252424223.60248443"
      ]
     },
     "execution_count": 105,
     "metadata": {},
     "output_type": "execute_result"
    }
   ],
   "source": [
    "store[\"Advertising Dollars\"].var()"
   ]
  },
  {
   "cell_type": "code",
   "execution_count": 106,
   "id": "d2c36cf4",
   "metadata": {},
   "outputs": [
    {
     "data": {
      "text/plain": [
       "4167.81884057971"
      ]
     },
     "execution_count": 106,
     "metadata": {},
     "output_type": "execute_result"
    }
   ],
   "source": [
    "store[\"Sales per Square Foot ($)\"].var()"
   ]
  },
  {
   "cell_type": "markdown",
   "id": "4d188d05",
   "metadata": {},
   "source": [
    "##### coefficient of variance "
   ]
  },
  {
   "cell_type": "code",
   "execution_count": null,
   "id": "ea4f9c22",
   "metadata": {},
   "outputs": [],
   "source": [
    "std()/mean() * 100"
   ]
  },
  {
   "cell_type": "code",
   "execution_count": 108,
   "id": "973113fd",
   "metadata": {},
   "outputs": [
    {
     "data": {
      "text/plain": [
       "6.3610060453498525"
      ]
     },
     "execution_count": 108,
     "metadata": {},
     "output_type": "execute_result"
    }
   ],
   "source": [
    "players[\"Height(cm)\"].std()/players[\"Height(cm)\"].mean() * 100"
   ]
  },
  {
   "cell_type": "code",
   "execution_count": 109,
   "id": "33ad2538",
   "metadata": {},
   "outputs": [
    {
     "data": {
      "text/plain": [
       "22.035898162632485"
      ]
     },
     "execution_count": 109,
     "metadata": {},
     "output_type": "execute_result"
    }
   ],
   "source": [
    "players[\"Weight(kg)\"].std()/players[\"Weight(kg)\"].mean() * 100"
   ]
  },
  {
   "cell_type": "code",
   "execution_count": 111,
   "id": "71eb13dd",
   "metadata": {},
   "outputs": [
    {
     "data": {
      "text/plain": [
       "7.6993019106334435"
      ]
     },
     "execution_count": 111,
     "metadata": {},
     "output_type": "execute_result"
    }
   ],
   "source": [
    "store[\"Sales per Square Foot ($)\"].std()/store[\"Sales per Square Foot ($)\"].mean() * 100"
   ]
  },
  {
   "cell_type": "code",
   "execution_count": null,
   "id": "aa117178",
   "metadata": {},
   "outputs": [],
   "source": []
  }
 ],
 "metadata": {
  "kernelspec": {
   "display_name": "Python 3 (ipykernel)",
   "language": "python",
   "name": "python3"
  },
  "language_info": {
   "codemirror_mode": {
    "name": "ipython",
    "version": 3
   },
   "file_extension": ".py",
   "mimetype": "text/x-python",
   "name": "python",
   "nbconvert_exporter": "python",
   "pygments_lexer": "ipython3",
   "version": "3.11.2"
  }
 },
 "nbformat": 4,
 "nbformat_minor": 5
}
